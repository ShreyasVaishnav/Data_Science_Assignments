{
 "cells": [
  {
   "cell_type": "code",
   "execution_count": 1,
   "metadata": {},
   "outputs": [],
   "source": [
    "# Author : Shreyas Shashikant Vaishnav\n",
    "# Purpose : Recommendation System\n",
    "# Dataset : Books.CSV"
   ]
  },
  {
   "cell_type": "code",
   "execution_count": 2,
   "metadata": {},
   "outputs": [],
   "source": [
    "# Importing libraries\n",
    "\n",
    "import pandas as pd\n",
    "import numpy as np"
   ]
  },
  {
   "cell_type": "code",
   "execution_count": 3,
   "metadata": {},
   "outputs": [
    {
     "data": {
      "text/html": [
       "<div>\n",
       "<style scoped>\n",
       "    .dataframe tbody tr th:only-of-type {\n",
       "        vertical-align: middle;\n",
       "    }\n",
       "\n",
       "    .dataframe tbody tr th {\n",
       "        vertical-align: top;\n",
       "    }\n",
       "\n",
       "    .dataframe thead th {\n",
       "        text-align: right;\n",
       "    }\n",
       "</style>\n",
       "<table border=\"1\" class=\"dataframe\">\n",
       "  <thead>\n",
       "    <tr style=\"text-align: right;\">\n",
       "      <th></th>\n",
       "      <th>Unnamed: 0</th>\n",
       "      <th>User.ID</th>\n",
       "      <th>Book.Title</th>\n",
       "      <th>Book.Rating</th>\n",
       "    </tr>\n",
       "  </thead>\n",
       "  <tbody>\n",
       "    <tr>\n",
       "      <th>0</th>\n",
       "      <td>1</td>\n",
       "      <td>276726</td>\n",
       "      <td>Classical Mythology</td>\n",
       "      <td>5</td>\n",
       "    </tr>\n",
       "    <tr>\n",
       "      <th>1</th>\n",
       "      <td>2</td>\n",
       "      <td>276729</td>\n",
       "      <td>Clara Callan</td>\n",
       "      <td>3</td>\n",
       "    </tr>\n",
       "    <tr>\n",
       "      <th>2</th>\n",
       "      <td>3</td>\n",
       "      <td>276729</td>\n",
       "      <td>Decision in Normandy</td>\n",
       "      <td>6</td>\n",
       "    </tr>\n",
       "    <tr>\n",
       "      <th>3</th>\n",
       "      <td>4</td>\n",
       "      <td>276736</td>\n",
       "      <td>Flu: The Story of the Great Influenza Pandemic...</td>\n",
       "      <td>8</td>\n",
       "    </tr>\n",
       "    <tr>\n",
       "      <th>4</th>\n",
       "      <td>5</td>\n",
       "      <td>276737</td>\n",
       "      <td>The Mummies of Urumchi</td>\n",
       "      <td>6</td>\n",
       "    </tr>\n",
       "  </tbody>\n",
       "</table>\n",
       "</div>"
      ],
      "text/plain": [
       "   Unnamed: 0  User.ID                                         Book.Title  \\\n",
       "0           1   276726                                Classical Mythology   \n",
       "1           2   276729                                       Clara Callan   \n",
       "2           3   276729                               Decision in Normandy   \n",
       "3           4   276736  Flu: The Story of the Great Influenza Pandemic...   \n",
       "4           5   276737                             The Mummies of Urumchi   \n",
       "\n",
       "   Book.Rating  \n",
       "0            5  \n",
       "1            3  \n",
       "2            6  \n",
       "3            8  \n",
       "4            6  "
      ]
     },
     "execution_count": 3,
     "metadata": {},
     "output_type": "execute_result"
    }
   ],
   "source": [
    "books_data = pd.read_csv(r\"D:\\Resume\\Data Science\\Assignments_SV\\Data Science Assignment\\Recommendation system\\book.csv\")\n",
    "books_data.head()"
   ]
  },
  {
   "cell_type": "code",
   "execution_count": 4,
   "metadata": {},
   "outputs": [],
   "source": [
    "books_df = books_data.rename({'User.ID':'userid','Book.Title':'booktitle','Book.Rating':'bookrating'},axis = 1)"
   ]
  },
  {
   "cell_type": "code",
   "execution_count": 5,
   "metadata": {},
   "outputs": [
    {
     "data": {
      "text/html": [
       "<div>\n",
       "<style scoped>\n",
       "    .dataframe tbody tr th:only-of-type {\n",
       "        vertical-align: middle;\n",
       "    }\n",
       "\n",
       "    .dataframe tbody tr th {\n",
       "        vertical-align: top;\n",
       "    }\n",
       "\n",
       "    .dataframe thead th {\n",
       "        text-align: right;\n",
       "    }\n",
       "</style>\n",
       "<table border=\"1\" class=\"dataframe\">\n",
       "  <thead>\n",
       "    <tr style=\"text-align: right;\">\n",
       "      <th></th>\n",
       "      <th>Unnamed: 0</th>\n",
       "      <th>userid</th>\n",
       "      <th>booktitle</th>\n",
       "      <th>bookrating</th>\n",
       "    </tr>\n",
       "  </thead>\n",
       "  <tbody>\n",
       "    <tr>\n",
       "      <th>0</th>\n",
       "      <td>1</td>\n",
       "      <td>276726</td>\n",
       "      <td>Classical Mythology</td>\n",
       "      <td>5</td>\n",
       "    </tr>\n",
       "    <tr>\n",
       "      <th>1</th>\n",
       "      <td>2</td>\n",
       "      <td>276729</td>\n",
       "      <td>Clara Callan</td>\n",
       "      <td>3</td>\n",
       "    </tr>\n",
       "    <tr>\n",
       "      <th>2</th>\n",
       "      <td>3</td>\n",
       "      <td>276729</td>\n",
       "      <td>Decision in Normandy</td>\n",
       "      <td>6</td>\n",
       "    </tr>\n",
       "    <tr>\n",
       "      <th>3</th>\n",
       "      <td>4</td>\n",
       "      <td>276736</td>\n",
       "      <td>Flu: The Story of the Great Influenza Pandemic...</td>\n",
       "      <td>8</td>\n",
       "    </tr>\n",
       "    <tr>\n",
       "      <th>4</th>\n",
       "      <td>5</td>\n",
       "      <td>276737</td>\n",
       "      <td>The Mummies of Urumchi</td>\n",
       "      <td>6</td>\n",
       "    </tr>\n",
       "  </tbody>\n",
       "</table>\n",
       "</div>"
      ],
      "text/plain": [
       "   Unnamed: 0  userid                                          booktitle  \\\n",
       "0           1  276726                                Classical Mythology   \n",
       "1           2  276729                                       Clara Callan   \n",
       "2           3  276729                               Decision in Normandy   \n",
       "3           4  276736  Flu: The Story of the Great Influenza Pandemic...   \n",
       "4           5  276737                             The Mummies of Urumchi   \n",
       "\n",
       "   bookrating  \n",
       "0           5  \n",
       "1           3  \n",
       "2           6  \n",
       "3           8  \n",
       "4           6  "
      ]
     },
     "execution_count": 5,
     "metadata": {},
     "output_type": "execute_result"
    }
   ],
   "source": [
    "books_df.head()"
   ]
  },
  {
   "cell_type": "code",
   "execution_count": 6,
   "metadata": {},
   "outputs": [
    {
     "data": {
      "text/plain": [
       "107"
      ]
     },
     "execution_count": 6,
     "metadata": {},
     "output_type": "execute_result"
    }
   ],
   "source": [
    "# Printing the book title and userid randomly\n",
    "books_df['booktitle'] [2464]\n",
    "books_df['userid'] [2464]"
   ]
  },
  {
   "cell_type": "code",
   "execution_count": 7,
   "metadata": {},
   "outputs": [
    {
     "data": {
      "text/plain": [
       "<AxesSubplot:title={'center':'Word Count Distribution for book title'}, ylabel='Frequency'>"
      ]
     },
     "execution_count": 7,
     "metadata": {},
     "output_type": "execute_result"
    },
    {
     "data": {
      "image/png": "[encoded data removed]",
      "text/plain": [
       "<Figure size 864x576 with 1 Axes>"
      ]
     },
     "metadata": {
      "needs_background": "light"
     },
     "output_type": "display_data"
    }
   ],
   "source": [
    "# Calculating the word count for book title\n",
    "books_df['word_count'] = books_df['booktitle'].apply(lambda x: len(str(x).split()))# Plotting the word count\n",
    "books_df['word_count'].plot( style = \"darkgrid\", kind='hist', bins = 50, figsize = (12,8), title='Word Count Distribution for book title')"
   ]
  },
  {
   "cell_type": "code",
   "execution_count": 8,
   "metadata": {},
   "outputs": [
    {
     "data": {
      "text/plain": [
       "<AxesSubplot:title={'center':'Bigram disribution for the top 20 words in the book title'}, xlabel='bigram'>"
      ]
     },
     "execution_count": 8,
     "metadata": {},
     "output_type": "execute_result"
    },
    {
     "data": {
      "image/png": "[encoded data removed]",
      "text/plain": [
       "<Figure size 1080x504 with 1 Axes>"
      ]
     },
     "metadata": {
      "needs_background": "light"
     },
     "output_type": "display_data"
    }
   ],
   "source": [
    "from sklearn.feature_extraction.text import CountVectorizer\n",
    "from sklearn.feature_extraction.text import TfidfVectorizer\n",
    "\n",
    "#Converting text descriptions into vectors using TF-IDF using Bigram\n",
    "tf = TfidfVectorizer(ngram_range=(2, 2), stop_words='english', lowercase = False)\n",
    "tfidf_matrix = tf.fit_transform(books_df['booktitle'])\n",
    "total_words = tfidf_matrix.sum(axis=0) \n",
    "#Finding the word frequency\n",
    "freq = [(word, total_words[0, idx]) for word, idx in tf.vocabulary_.items()]\n",
    "freq =sorted(freq, key = lambda x: x[1], reverse=True)\n",
    "#converting into dataframe \n",
    "bigram = pd.DataFrame(freq)\n",
    "bigram.rename(columns = {0:'bigram', 1: 'count'}, inplace = True) \n",
    "#Taking first 20 records\n",
    "bigram = bigram.head(20)\n",
    "\n",
    "#Plotting the bigram distribution\n",
    "bigram.plot(x ='bigram', y='count', kind = 'bar', title = \"Bigram disribution for the top 20 words in the book title\", figsize = (15,7), )"
   ]
  },
  {
   "cell_type": "code",
   "execution_count": 9,
   "metadata": {},
   "outputs": [],
   "source": [
    "# Genre distribution\n",
    "#books_df['booktitle'].value_counts().plot(x = 'booktitle', y ='bookrating', kind = 'bar', figsize = (10,5)  )"
   ]
  },
  {
   "cell_type": "code",
   "execution_count": 10,
   "metadata": {},
   "outputs": [
    {
     "data": {
      "image/png": "[encoded data removed]",
      "text/plain": [
       "<Figure size 864x576 with 1 Axes>"
      ]
     },
     "metadata": {
      "needs_background": "light"
     },
     "output_type": "display_data"
    }
   ],
   "source": [
    "# Plot pos\n",
    "import matplotlib.pyplot as plt\n",
    "import seaborn as sns\n",
    "plt.figure(figsize=(12,8))\n",
    "ax = sns.barplot(x='index', y='bookrating', data=books_df['bookrating'].value_counts()[:20].reset_index())\n",
    "ax.set_title('Top 20 Part-of-speech')\n",
    "ax.set_xlabel('Part-of-speech')\n",
    "ax.set_ylabel('Number of occurrences')\n",
    "plt.show()"
   ]
  },
  {
   "cell_type": "code",
   "execution_count": 11,
   "metadata": {},
   "outputs": [],
   "source": [
    "books1 = books_df.drop(['Unnamed: 0'], axis = 1)"
   ]
  },
  {
   "cell_type": "code",
   "execution_count": 12,
   "metadata": {},
   "outputs": [
    {
     "data": {
      "text/html": [
       "<div>\n",
       "<style scoped>\n",
       "    .dataframe tbody tr th:only-of-type {\n",
       "        vertical-align: middle;\n",
       "    }\n",
       "\n",
       "    .dataframe tbody tr th {\n",
       "        vertical-align: top;\n",
       "    }\n",
       "\n",
       "    .dataframe thead th {\n",
       "        text-align: right;\n",
       "    }\n",
       "</style>\n",
       "<table border=\"1\" class=\"dataframe\">\n",
       "  <thead>\n",
       "    <tr style=\"text-align: right;\">\n",
       "      <th></th>\n",
       "      <th>userid</th>\n",
       "      <th>booktitle</th>\n",
       "      <th>bookrating</th>\n",
       "      <th>word_count</th>\n",
       "    </tr>\n",
       "  </thead>\n",
       "  <tbody>\n",
       "    <tr>\n",
       "      <th>0</th>\n",
       "      <td>276726</td>\n",
       "      <td>Classical Mythology</td>\n",
       "      <td>5</td>\n",
       "      <td>2</td>\n",
       "    </tr>\n",
       "    <tr>\n",
       "      <th>1</th>\n",
       "      <td>276729</td>\n",
       "      <td>Clara Callan</td>\n",
       "      <td>3</td>\n",
       "      <td>2</td>\n",
       "    </tr>\n",
       "    <tr>\n",
       "      <th>2</th>\n",
       "      <td>276729</td>\n",
       "      <td>Decision in Normandy</td>\n",
       "      <td>6</td>\n",
       "      <td>3</td>\n",
       "    </tr>\n",
       "    <tr>\n",
       "      <th>3</th>\n",
       "      <td>276736</td>\n",
       "      <td>Flu: The Story of the Great Influenza Pandemic...</td>\n",
       "      <td>8</td>\n",
       "      <td>19</td>\n",
       "    </tr>\n",
       "    <tr>\n",
       "      <th>4</th>\n",
       "      <td>276737</td>\n",
       "      <td>The Mummies of Urumchi</td>\n",
       "      <td>6</td>\n",
       "      <td>4</td>\n",
       "    </tr>\n",
       "  </tbody>\n",
       "</table>\n",
       "</div>"
      ],
      "text/plain": [
       "   userid                                          booktitle  bookrating  \\\n",
       "0  276726                                Classical Mythology           5   \n",
       "1  276729                                       Clara Callan           3   \n",
       "2  276729                               Decision in Normandy           6   \n",
       "3  276736  Flu: The Story of the Great Influenza Pandemic...           8   \n",
       "4  276737                             The Mummies of Urumchi           6   \n",
       "\n",
       "   word_count  \n",
       "0           2  \n",
       "1           2  \n",
       "2           3  \n",
       "3          19  \n",
       "4           4  "
      ]
     },
     "execution_count": 12,
     "metadata": {},
     "output_type": "execute_result"
    }
   ],
   "source": [
    "books1.head()"
   ]
  },
  {
   "cell_type": "code",
   "execution_count": 13,
   "metadata": {},
   "outputs": [
    {
     "data": {
      "text/plain": [
       "<seaborn.axisgrid.PairGrid at 0x231e0e2c4c0>"
      ]
     },
     "execution_count": 13,
     "metadata": {},
     "output_type": "execute_result"
    },
    {
     "data": {
      "image/png": "[encoded data removed]",
      "text/plain": [
       "<Figure size 601.75x540 with 12 Axes>"
      ]
     },
     "metadata": {
      "needs_background": "light"
     },
     "output_type": "display_data"
    }
   ],
   "source": [
    "import seaborn as sns\n",
    "\n",
    "sns.pairplot(data = books_df, hue = \"bookrating\", palette = \"twilight_shifted\" )"
   ]
  },
  {
   "cell_type": "code",
   "execution_count": 14,
   "metadata": {},
   "outputs": [
    {
     "data": {
      "text/plain": [
       "<AxesSubplot:title={'center':'BoxPlot With Books'}>"
      ]
     },
     "execution_count": 14,
     "metadata": {},
     "output_type": "execute_result"
    },
    {
     "data": {
      "image/png": "[encoded data removed]",
      "text/plain": [
       "<Figure size 432x288 with 1 Axes>"
      ]
     },
     "metadata": {
      "needs_background": "light"
     },
     "output_type": "display_data"
    }
   ],
   "source": [
    "books1.plot.box(title = \"BoxPlot With Books\")"
   ]
  },
  {
   "cell_type": "code",
   "execution_count": 15,
   "metadata": {},
   "outputs": [
    {
     "data": {
      "image/png": "[encoded data removed]",
      "text/plain": [
       "<Figure size 432x288 with 1 Axes>"
      ]
     },
     "metadata": {},
     "output_type": "display_data"
    }
   ],
   "source": [
    "sns.set_style(\"white\")\n",
    "ax = sns.boxplot(data = books1)\n",
    "ax = sns.stripplot(data = books1)"
   ]
  },
  {
   "cell_type": "code",
   "execution_count": 16,
   "metadata": {},
   "outputs": [
    {
     "data": {
      "text/plain": [
       "7.5663"
      ]
     },
     "metadata": {},
     "output_type": "display_data"
    }
   ],
   "source": [
    "c = books_df[\"bookrating\"].mean()\n",
    "from IPython.display import display\n",
    "display(c)"
   ]
  },
  {
   "cell_type": "code",
   "execution_count": 17,
   "metadata": {},
   "outputs": [
    {
     "data": {
      "text/plain": [
       "<AxesSubplot:>"
      ]
     },
     "execution_count": 17,
     "metadata": {},
     "output_type": "execute_result"
    },
    {
     "data": {
      "image/png": "[encoded data removed]",
      "text/plain": [
       "<Figure size 432x288 with 2 Axes>"
      ]
     },
     "metadata": {},
     "output_type": "display_data"
    }
   ],
   "source": [
    "D = books_df.corr()\n",
    "sns.heatmap(D, annot= True, cmap = \"PuBu\")"
   ]
  },
  {
   "cell_type": "code",
   "execution_count": 18,
   "metadata": {},
   "outputs": [
    {
     "data": {
      "text/plain": [
       "<AxesSubplot:xlabel='bookrating', ylabel='userid'>"
      ]
     },
     "execution_count": 18,
     "metadata": {},
     "output_type": "execute_result"
    },
    {
     "data": {
      "image/png": "[encoded data removed]",
      "text/plain": [
       "<Figure size 432x288 with 1 Axes>"
      ]
     },
     "metadata": {},
     "output_type": "display_data"
    }
   ],
   "source": [
    "sns.scatterplot(x=books_df[\"bookrating\"], y=books_df[\"userid\"])"
   ]
  },
  {
   "cell_type": "code",
   "execution_count": 19,
   "metadata": {},
   "outputs": [
    {
     "data": {
      "text/plain": [
       "2182"
      ]
     },
     "execution_count": 19,
     "metadata": {},
     "output_type": "execute_result"
    }
   ],
   "source": [
    "len(books1['userid'].unique())\n"
   ]
  },
  {
   "cell_type": "code",
   "execution_count": 20,
   "metadata": {},
   "outputs": [
    {
     "data": {
      "text/plain": [
       "9659"
      ]
     },
     "execution_count": 20,
     "metadata": {},
     "output_type": "execute_result"
    }
   ],
   "source": [
    "len(books1['booktitle'].unique())"
   ]
  },
  {
   "cell_type": "code",
   "execution_count": 21,
   "metadata": {},
   "outputs": [],
   "source": [
    "books_df1 = books1.pivot_table(index = 'userid', columns = 'booktitle', values = 'bookrating').reset_index(drop = True)"
   ]
  },
  {
   "cell_type": "code",
   "execution_count": 22,
   "metadata": {},
   "outputs": [
    {
     "name": "stdout",
     "output_type": "stream",
     "text": [
      "(10000, 4)\n",
      "(2182, 9659)\n"
     ]
    }
   ],
   "source": [
    "print(books1.shape)\n",
    "print(books_df1.shape)\n"
   ]
  },
  {
   "cell_type": "code",
   "execution_count": 23,
   "metadata": {},
   "outputs": [
    {
     "data": {
      "text/html": [
       "<div>\n",
       "<style scoped>\n",
       "    .dataframe tbody tr th:only-of-type {\n",
       "        vertical-align: middle;\n",
       "    }\n",
       "\n",
       "    .dataframe tbody tr th {\n",
       "        vertical-align: top;\n",
       "    }\n",
       "\n",
       "    .dataframe thead th {\n",
       "        text-align: right;\n",
       "    }\n",
       "</style>\n",
       "<table border=\"1\" class=\"dataframe\">\n",
       "  <thead>\n",
       "    <tr style=\"text-align: right;\">\n",
       "      <th>booktitle</th>\n",
       "      <th>Jason, Madison &amp;amp</th>\n",
       "      <th>Other Stories;Merril;1985;McClelland &amp;amp</th>\n",
       "      <th>Repairing PC Drives &amp;amp</th>\n",
       "      <th>'48</th>\n",
       "      <th>'O Au No Keia: Voices from Hawai'I's Mahu and Transgender Communities</th>\n",
       "      <th>...AND THE HORSE HE RODE IN ON : THE PEOPLE V. KENNETH STARR</th>\n",
       "      <th>01-01-00: A Novel of the Millennium</th>\n",
       "      <th>1,401 More Things That P*Ss Me Off</th>\n",
       "      <th>10 Commandments Of Dating</th>\n",
       "      <th>100 Great Fantasy Short, Short Stories</th>\n",
       "      <th>...</th>\n",
       "      <th>Zora Hurston and the Chinaberry Tree (Reading Rainbow Book)</th>\n",
       "      <th>\\Even Monkeys Fall from Trees\\ and Other Japanese Proverbs</th>\n",
       "      <th>\\I Won't Learn from You\\: And Other Thoughts on Creative Maladjustment</th>\n",
       "      <th>\\More More More,\\ Said the Baby</th>\n",
       "      <th>\\O\\ Is for Outlaw</th>\n",
       "      <th>\\Surely You're Joking, Mr. Feynman!\\: Adventures of a Curious Character</th>\n",
       "      <th>\\Well, there's your problem\\: Cartoons</th>\n",
       "      <th>iI Paradiso Degli Orchi</th>\n",
       "      <th>stardust</th>\n",
       "      <th>�?�?bermorgen.</th>\n",
       "    </tr>\n",
       "  </thead>\n",
       "  <tbody>\n",
       "    <tr>\n",
       "      <th>0</th>\n",
       "      <td>NaN</td>\n",
       "      <td>NaN</td>\n",
       "      <td>NaN</td>\n",
       "      <td>NaN</td>\n",
       "      <td>NaN</td>\n",
       "      <td>NaN</td>\n",
       "      <td>NaN</td>\n",
       "      <td>NaN</td>\n",
       "      <td>NaN</td>\n",
       "      <td>NaN</td>\n",
       "      <td>...</td>\n",
       "      <td>NaN</td>\n",
       "      <td>NaN</td>\n",
       "      <td>NaN</td>\n",
       "      <td>NaN</td>\n",
       "      <td>NaN</td>\n",
       "      <td>NaN</td>\n",
       "      <td>NaN</td>\n",
       "      <td>NaN</td>\n",
       "      <td>NaN</td>\n",
       "      <td>NaN</td>\n",
       "    </tr>\n",
       "    <tr>\n",
       "      <th>1</th>\n",
       "      <td>NaN</td>\n",
       "      <td>NaN</td>\n",
       "      <td>NaN</td>\n",
       "      <td>NaN</td>\n",
       "      <td>NaN</td>\n",
       "      <td>NaN</td>\n",
       "      <td>NaN</td>\n",
       "      <td>NaN</td>\n",
       "      <td>NaN</td>\n",
       "      <td>NaN</td>\n",
       "      <td>...</td>\n",
       "      <td>NaN</td>\n",
       "      <td>NaN</td>\n",
       "      <td>NaN</td>\n",
       "      <td>NaN</td>\n",
       "      <td>NaN</td>\n",
       "      <td>NaN</td>\n",
       "      <td>NaN</td>\n",
       "      <td>NaN</td>\n",
       "      <td>NaN</td>\n",
       "      <td>NaN</td>\n",
       "    </tr>\n",
       "    <tr>\n",
       "      <th>2</th>\n",
       "      <td>NaN</td>\n",
       "      <td>NaN</td>\n",
       "      <td>NaN</td>\n",
       "      <td>NaN</td>\n",
       "      <td>NaN</td>\n",
       "      <td>NaN</td>\n",
       "      <td>NaN</td>\n",
       "      <td>NaN</td>\n",
       "      <td>NaN</td>\n",
       "      <td>NaN</td>\n",
       "      <td>...</td>\n",
       "      <td>NaN</td>\n",
       "      <td>NaN</td>\n",
       "      <td>NaN</td>\n",
       "      <td>NaN</td>\n",
       "      <td>NaN</td>\n",
       "      <td>NaN</td>\n",
       "      <td>NaN</td>\n",
       "      <td>NaN</td>\n",
       "      <td>NaN</td>\n",
       "      <td>NaN</td>\n",
       "    </tr>\n",
       "    <tr>\n",
       "      <th>3</th>\n",
       "      <td>NaN</td>\n",
       "      <td>NaN</td>\n",
       "      <td>NaN</td>\n",
       "      <td>NaN</td>\n",
       "      <td>NaN</td>\n",
       "      <td>NaN</td>\n",
       "      <td>NaN</td>\n",
       "      <td>NaN</td>\n",
       "      <td>NaN</td>\n",
       "      <td>NaN</td>\n",
       "      <td>...</td>\n",
       "      <td>NaN</td>\n",
       "      <td>NaN</td>\n",
       "      <td>NaN</td>\n",
       "      <td>NaN</td>\n",
       "      <td>NaN</td>\n",
       "      <td>NaN</td>\n",
       "      <td>NaN</td>\n",
       "      <td>NaN</td>\n",
       "      <td>NaN</td>\n",
       "      <td>NaN</td>\n",
       "    </tr>\n",
       "    <tr>\n",
       "      <th>4</th>\n",
       "      <td>NaN</td>\n",
       "      <td>NaN</td>\n",
       "      <td>NaN</td>\n",
       "      <td>NaN</td>\n",
       "      <td>NaN</td>\n",
       "      <td>NaN</td>\n",
       "      <td>NaN</td>\n",
       "      <td>NaN</td>\n",
       "      <td>NaN</td>\n",
       "      <td>NaN</td>\n",
       "      <td>...</td>\n",
       "      <td>NaN</td>\n",
       "      <td>NaN</td>\n",
       "      <td>NaN</td>\n",
       "      <td>NaN</td>\n",
       "      <td>NaN</td>\n",
       "      <td>NaN</td>\n",
       "      <td>NaN</td>\n",
       "      <td>NaN</td>\n",
       "      <td>NaN</td>\n",
       "      <td>NaN</td>\n",
       "    </tr>\n",
       "  </tbody>\n",
       "</table>\n",
       "<p>5 rows × 9659 columns</p>\n",
       "</div>"
      ],
      "text/plain": [
       "booktitle   Jason, Madison &amp   Other Stories;Merril;1985;McClelland &amp  \\\n",
       "0                           NaN                                         NaN   \n",
       "1                           NaN                                         NaN   \n",
       "2                           NaN                                         NaN   \n",
       "3                           NaN                                         NaN   \n",
       "4                           NaN                                         NaN   \n",
       "\n",
       "booktitle   Repairing PC Drives &amp  '48  \\\n",
       "0                                NaN  NaN   \n",
       "1                                NaN  NaN   \n",
       "2                                NaN  NaN   \n",
       "3                                NaN  NaN   \n",
       "4                                NaN  NaN   \n",
       "\n",
       "booktitle  'O Au No Keia: Voices from Hawai'I's Mahu and Transgender Communities  \\\n",
       "0                                                        NaN                       \n",
       "1                                                        NaN                       \n",
       "2                                                        NaN                       \n",
       "3                                                        NaN                       \n",
       "4                                                        NaN                       \n",
       "\n",
       "booktitle  ...AND THE HORSE HE RODE IN ON : THE PEOPLE V. KENNETH STARR  \\\n",
       "0                                                        NaN              \n",
       "1                                                        NaN              \n",
       "2                                                        NaN              \n",
       "3                                                        NaN              \n",
       "4                                                        NaN              \n",
       "\n",
       "booktitle  01-01-00: A Novel of the Millennium  \\\n",
       "0                                          NaN   \n",
       "1                                          NaN   \n",
       "2                                          NaN   \n",
       "3                                          NaN   \n",
       "4                                          NaN   \n",
       "\n",
       "booktitle  1,401 More Things That P*Ss Me Off  10 Commandments Of Dating  \\\n",
       "0                                         NaN                        NaN   \n",
       "1                                         NaN                        NaN   \n",
       "2                                         NaN                        NaN   \n",
       "3                                         NaN                        NaN   \n",
       "4                                         NaN                        NaN   \n",
       "\n",
       "booktitle  100 Great Fantasy Short, Short Stories  ...  \\\n",
       "0                                             NaN  ...   \n",
       "1                                             NaN  ...   \n",
       "2                                             NaN  ...   \n",
       "3                                             NaN  ...   \n",
       "4                                             NaN  ...   \n",
       "\n",
       "booktitle  Zora Hurston and the Chinaberry Tree (Reading Rainbow Book)  \\\n",
       "0                                                        NaN             \n",
       "1                                                        NaN             \n",
       "2                                                        NaN             \n",
       "3                                                        NaN             \n",
       "4                                                        NaN             \n",
       "\n",
       "booktitle  \\Even Monkeys Fall from Trees\\ and Other Japanese Proverbs  \\\n",
       "0                                                        NaN            \n",
       "1                                                        NaN            \n",
       "2                                                        NaN            \n",
       "3                                                        NaN            \n",
       "4                                                        NaN            \n",
       "\n",
       "booktitle  \\I Won't Learn from You\\: And Other Thoughts on Creative Maladjustment  \\\n",
       "0                                                        NaN                        \n",
       "1                                                        NaN                        \n",
       "2                                                        NaN                        \n",
       "3                                                        NaN                        \n",
       "4                                                        NaN                        \n",
       "\n",
       "booktitle  \\More More More,\\ Said the Baby  \\O\\ Is for Outlaw  \\\n",
       "0                                      NaN                NaN   \n",
       "1                                      NaN                NaN   \n",
       "2                                      NaN                NaN   \n",
       "3                                      NaN                NaN   \n",
       "4                                      NaN                NaN   \n",
       "\n",
       "booktitle  \\Surely You're Joking, Mr. Feynman!\\: Adventures of a Curious Character  \\\n",
       "0                                                        NaN                         \n",
       "1                                                        NaN                         \n",
       "2                                                        NaN                         \n",
       "3                                                        NaN                         \n",
       "4                                                        NaN                         \n",
       "\n",
       "booktitle  \\Well, there's your problem\\: Cartoons  iI Paradiso Degli Orchi  \\\n",
       "0                                             NaN                      NaN   \n",
       "1                                             NaN                      NaN   \n",
       "2                                             NaN                      NaN   \n",
       "3                                             NaN                      NaN   \n",
       "4                                             NaN                      NaN   \n",
       "\n",
       "booktitle  stardust  �?�?bermorgen.  \n",
       "0               NaN             NaN  \n",
       "1               NaN             NaN  \n",
       "2               NaN             NaN  \n",
       "3               NaN             NaN  \n",
       "4               NaN             NaN  \n",
       "\n",
       "[5 rows x 9659 columns]"
      ]
     },
     "execution_count": 23,
     "metadata": {},
     "output_type": "execute_result"
    }
   ],
   "source": [
    "books_df1.head()"
   ]
  },
  {
   "cell_type": "code",
   "execution_count": 24,
   "metadata": {},
   "outputs": [
    {
     "data": {
      "text/plain": [
       "booktitle\n",
       " Jason, Madison &amp                                                       2181\n",
       " Other Stories;Merril;1985;McClelland &amp                                 2181\n",
       " Repairing PC Drives &amp                                                  2181\n",
       "'48                                                                        2181\n",
       "'O Au No Keia: Voices from Hawai'I's Mahu and Transgender Communities      2181\n",
       "                                                                           ... \n",
       "\\Surely You're Joking, Mr. Feynman!\\: Adventures of a Curious Character    2181\n",
       "\\Well, there's your problem\\: Cartoons                                     2181\n",
       "iI Paradiso Degli Orchi                                                    2181\n",
       "stardust                                                                   2181\n",
       "�?�?bermorgen.                                                             2181\n",
       "Length: 9659, dtype: int64"
      ]
     },
     "execution_count": 24,
     "metadata": {},
     "output_type": "execute_result"
    }
   ],
   "source": [
    "books_df1.isnull().sum()"
   ]
  },
  {
   "cell_type": "code",
   "execution_count": 25,
   "metadata": {},
   "outputs": [],
   "source": [
    "books_df1.index = books1.userid.unique()"
   ]
  },
  {
   "cell_type": "code",
   "execution_count": 26,
   "metadata": {},
   "outputs": [],
   "source": [
    "books_df1.fillna(0, inplace = True)"
   ]
  },
  {
   "cell_type": "code",
   "execution_count": 27,
   "metadata": {},
   "outputs": [
    {
     "data": {
      "text/html": [
       "<div>\n",
       "<style scoped>\n",
       "    .dataframe tbody tr th:only-of-type {\n",
       "        vertical-align: middle;\n",
       "    }\n",
       "\n",
       "    .dataframe tbody tr th {\n",
       "        vertical-align: top;\n",
       "    }\n",
       "\n",
       "    .dataframe thead th {\n",
       "        text-align: right;\n",
       "    }\n",
       "</style>\n",
       "<table border=\"1\" class=\"dataframe\">\n",
       "  <thead>\n",
       "    <tr style=\"text-align: right;\">\n",
       "      <th>booktitle</th>\n",
       "      <th>Jason, Madison &amp;amp</th>\n",
       "      <th>Other Stories;Merril;1985;McClelland &amp;amp</th>\n",
       "      <th>Repairing PC Drives &amp;amp</th>\n",
       "      <th>'48</th>\n",
       "      <th>'O Au No Keia: Voices from Hawai'I's Mahu and Transgender Communities</th>\n",
       "      <th>...AND THE HORSE HE RODE IN ON : THE PEOPLE V. KENNETH STARR</th>\n",
       "      <th>01-01-00: A Novel of the Millennium</th>\n",
       "      <th>1,401 More Things That P*Ss Me Off</th>\n",
       "      <th>10 Commandments Of Dating</th>\n",
       "      <th>100 Great Fantasy Short, Short Stories</th>\n",
       "      <th>...</th>\n",
       "      <th>Zora Hurston and the Chinaberry Tree (Reading Rainbow Book)</th>\n",
       "      <th>\\Even Monkeys Fall from Trees\\ and Other Japanese Proverbs</th>\n",
       "      <th>\\I Won't Learn from You\\: And Other Thoughts on Creative Maladjustment</th>\n",
       "      <th>\\More More More,\\ Said the Baby</th>\n",
       "      <th>\\O\\ Is for Outlaw</th>\n",
       "      <th>\\Surely You're Joking, Mr. Feynman!\\: Adventures of a Curious Character</th>\n",
       "      <th>\\Well, there's your problem\\: Cartoons</th>\n",
       "      <th>iI Paradiso Degli Orchi</th>\n",
       "      <th>stardust</th>\n",
       "      <th>�?�?bermorgen.</th>\n",
       "    </tr>\n",
       "  </thead>\n",
       "  <tbody>\n",
       "    <tr>\n",
       "      <th>276726</th>\n",
       "      <td>0.0</td>\n",
       "      <td>0.0</td>\n",
       "      <td>0.0</td>\n",
       "      <td>0.0</td>\n",
       "      <td>0.0</td>\n",
       "      <td>0.0</td>\n",
       "      <td>0.0</td>\n",
       "      <td>0.0</td>\n",
       "      <td>0.0</td>\n",
       "      <td>0.0</td>\n",
       "      <td>...</td>\n",
       "      <td>0.0</td>\n",
       "      <td>0.0</td>\n",
       "      <td>0.0</td>\n",
       "      <td>0.0</td>\n",
       "      <td>0.0</td>\n",
       "      <td>0.0</td>\n",
       "      <td>0.0</td>\n",
       "      <td>0.0</td>\n",
       "      <td>0.0</td>\n",
       "      <td>0.0</td>\n",
       "    </tr>\n",
       "    <tr>\n",
       "      <th>276729</th>\n",
       "      <td>0.0</td>\n",
       "      <td>0.0</td>\n",
       "      <td>0.0</td>\n",
       "      <td>0.0</td>\n",
       "      <td>0.0</td>\n",
       "      <td>0.0</td>\n",
       "      <td>0.0</td>\n",
       "      <td>0.0</td>\n",
       "      <td>0.0</td>\n",
       "      <td>0.0</td>\n",
       "      <td>...</td>\n",
       "      <td>0.0</td>\n",
       "      <td>0.0</td>\n",
       "      <td>0.0</td>\n",
       "      <td>0.0</td>\n",
       "      <td>0.0</td>\n",
       "      <td>0.0</td>\n",
       "      <td>0.0</td>\n",
       "      <td>0.0</td>\n",
       "      <td>0.0</td>\n",
       "      <td>0.0</td>\n",
       "    </tr>\n",
       "    <tr>\n",
       "      <th>276736</th>\n",
       "      <td>0.0</td>\n",
       "      <td>0.0</td>\n",
       "      <td>0.0</td>\n",
       "      <td>0.0</td>\n",
       "      <td>0.0</td>\n",
       "      <td>0.0</td>\n",
       "      <td>0.0</td>\n",
       "      <td>0.0</td>\n",
       "      <td>0.0</td>\n",
       "      <td>0.0</td>\n",
       "      <td>...</td>\n",
       "      <td>0.0</td>\n",
       "      <td>0.0</td>\n",
       "      <td>0.0</td>\n",
       "      <td>0.0</td>\n",
       "      <td>0.0</td>\n",
       "      <td>0.0</td>\n",
       "      <td>0.0</td>\n",
       "      <td>0.0</td>\n",
       "      <td>0.0</td>\n",
       "      <td>0.0</td>\n",
       "    </tr>\n",
       "    <tr>\n",
       "      <th>276737</th>\n",
       "      <td>0.0</td>\n",
       "      <td>0.0</td>\n",
       "      <td>0.0</td>\n",
       "      <td>0.0</td>\n",
       "      <td>0.0</td>\n",
       "      <td>0.0</td>\n",
       "      <td>0.0</td>\n",
       "      <td>0.0</td>\n",
       "      <td>0.0</td>\n",
       "      <td>0.0</td>\n",
       "      <td>...</td>\n",
       "      <td>0.0</td>\n",
       "      <td>0.0</td>\n",
       "      <td>0.0</td>\n",
       "      <td>0.0</td>\n",
       "      <td>0.0</td>\n",
       "      <td>0.0</td>\n",
       "      <td>0.0</td>\n",
       "      <td>0.0</td>\n",
       "      <td>0.0</td>\n",
       "      <td>0.0</td>\n",
       "    </tr>\n",
       "    <tr>\n",
       "      <th>276744</th>\n",
       "      <td>0.0</td>\n",
       "      <td>0.0</td>\n",
       "      <td>0.0</td>\n",
       "      <td>0.0</td>\n",
       "      <td>0.0</td>\n",
       "      <td>0.0</td>\n",
       "      <td>0.0</td>\n",
       "      <td>0.0</td>\n",
       "      <td>0.0</td>\n",
       "      <td>0.0</td>\n",
       "      <td>...</td>\n",
       "      <td>0.0</td>\n",
       "      <td>0.0</td>\n",
       "      <td>0.0</td>\n",
       "      <td>0.0</td>\n",
       "      <td>0.0</td>\n",
       "      <td>0.0</td>\n",
       "      <td>0.0</td>\n",
       "      <td>0.0</td>\n",
       "      <td>0.0</td>\n",
       "      <td>0.0</td>\n",
       "    </tr>\n",
       "  </tbody>\n",
       "</table>\n",
       "<p>5 rows × 9659 columns</p>\n",
       "</div>"
      ],
      "text/plain": [
       "booktitle   Jason, Madison &amp   Other Stories;Merril;1985;McClelland &amp  \\\n",
       "276726                      0.0                                         0.0   \n",
       "276729                      0.0                                         0.0   \n",
       "276736                      0.0                                         0.0   \n",
       "276737                      0.0                                         0.0   \n",
       "276744                      0.0                                         0.0   \n",
       "\n",
       "booktitle   Repairing PC Drives &amp  '48  \\\n",
       "276726                           0.0  0.0   \n",
       "276729                           0.0  0.0   \n",
       "276736                           0.0  0.0   \n",
       "276737                           0.0  0.0   \n",
       "276744                           0.0  0.0   \n",
       "\n",
       "booktitle  'O Au No Keia: Voices from Hawai'I's Mahu and Transgender Communities  \\\n",
       "276726                                                   0.0                       \n",
       "276729                                                   0.0                       \n",
       "276736                                                   0.0                       \n",
       "276737                                                   0.0                       \n",
       "276744                                                   0.0                       \n",
       "\n",
       "booktitle  ...AND THE HORSE HE RODE IN ON : THE PEOPLE V. KENNETH STARR  \\\n",
       "276726                                                   0.0              \n",
       "276729                                                   0.0              \n",
       "276736                                                   0.0              \n",
       "276737                                                   0.0              \n",
       "276744                                                   0.0              \n",
       "\n",
       "booktitle  01-01-00: A Novel of the Millennium  \\\n",
       "276726                                     0.0   \n",
       "276729                                     0.0   \n",
       "276736                                     0.0   \n",
       "276737                                     0.0   \n",
       "276744                                     0.0   \n",
       "\n",
       "booktitle  1,401 More Things That P*Ss Me Off  10 Commandments Of Dating  \\\n",
       "276726                                    0.0                        0.0   \n",
       "276729                                    0.0                        0.0   \n",
       "276736                                    0.0                        0.0   \n",
       "276737                                    0.0                        0.0   \n",
       "276744                                    0.0                        0.0   \n",
       "\n",
       "booktitle  100 Great Fantasy Short, Short Stories  ...  \\\n",
       "276726                                        0.0  ...   \n",
       "276729                                        0.0  ...   \n",
       "276736                                        0.0  ...   \n",
       "276737                                        0.0  ...   \n",
       "276744                                        0.0  ...   \n",
       "\n",
       "booktitle  Zora Hurston and the Chinaberry Tree (Reading Rainbow Book)  \\\n",
       "276726                                                   0.0             \n",
       "276729                                                   0.0             \n",
       "276736                                                   0.0             \n",
       "276737                                                   0.0             \n",
       "276744                                                   0.0             \n",
       "\n",
       "booktitle  \\Even Monkeys Fall from Trees\\ and Other Japanese Proverbs  \\\n",
       "276726                                                   0.0            \n",
       "276729                                                   0.0            \n",
       "276736                                                   0.0            \n",
       "276737                                                   0.0            \n",
       "276744                                                   0.0            \n",
       "\n",
       "booktitle  \\I Won't Learn from You\\: And Other Thoughts on Creative Maladjustment  \\\n",
       "276726                                                   0.0                        \n",
       "276729                                                   0.0                        \n",
       "276736                                                   0.0                        \n",
       "276737                                                   0.0                        \n",
       "276744                                                   0.0                        \n",
       "\n",
       "booktitle  \\More More More,\\ Said the Baby  \\O\\ Is for Outlaw  \\\n",
       "276726                                 0.0                0.0   \n",
       "276729                                 0.0                0.0   \n",
       "276736                                 0.0                0.0   \n",
       "276737                                 0.0                0.0   \n",
       "276744                                 0.0                0.0   \n",
       "\n",
       "booktitle  \\Surely You're Joking, Mr. Feynman!\\: Adventures of a Curious Character  \\\n",
       "276726                                                   0.0                         \n",
       "276729                                                   0.0                         \n",
       "276736                                                   0.0                         \n",
       "276737                                                   0.0                         \n",
       "276744                                                   0.0                         \n",
       "\n",
       "booktitle  \\Well, there's your problem\\: Cartoons  iI Paradiso Degli Orchi  \\\n",
       "276726                                        0.0                      0.0   \n",
       "276729                                        0.0                      0.0   \n",
       "276736                                        0.0                      0.0   \n",
       "276737                                        0.0                      0.0   \n",
       "276744                                        0.0                      0.0   \n",
       "\n",
       "booktitle  stardust  �?�?bermorgen.  \n",
       "276726          0.0             0.0  \n",
       "276729          0.0             0.0  \n",
       "276736          0.0             0.0  \n",
       "276737          0.0             0.0  \n",
       "276744          0.0             0.0  \n",
       "\n",
       "[5 rows x 9659 columns]"
      ]
     },
     "execution_count": 27,
     "metadata": {},
     "output_type": "execute_result"
    }
   ],
   "source": [
    "books_df1.head()"
   ]
  },
  {
   "cell_type": "code",
   "execution_count": 28,
   "metadata": {},
   "outputs": [
    {
     "data": {
      "text/plain": [
       "array([0., 0., 0., ..., 0., 0., 0.])"
      ]
     },
     "execution_count": 28,
     "metadata": {},
     "output_type": "execute_result"
    }
   ],
   "source": [
    "books_df1.values[0]"
   ]
  },
  {
   "cell_type": "code",
   "execution_count": 29,
   "metadata": {},
   "outputs": [
    {
     "data": {
      "text/plain": [
       "(2182, 9659)"
      ]
     },
     "execution_count": 29,
     "metadata": {},
     "output_type": "execute_result"
    }
   ],
   "source": [
    "books_df1.shape"
   ]
  },
  {
   "cell_type": "code",
   "execution_count": 30,
   "metadata": {},
   "outputs": [],
   "source": [
    "from sklearn.metrics import pairwise_distances\n",
    "from scipy.spatial.distance import cosine\n",
    "import warnings\n",
    "warnings.filterwarnings(\"ignore\")\n",
    "user_sim = 1 - pairwise_distances(books_df1.values, metric = 'cosine')"
   ]
  },
  {
   "cell_type": "code",
   "execution_count": 31,
   "metadata": {},
   "outputs": [
    {
     "data": {
      "text/plain": [
       "array([[1., 0., 0., ..., 0., 0., 0.],\n",
       "       [0., 1., 0., ..., 0., 0., 0.],\n",
       "       [0., 0., 1., ..., 0., 0., 0.],\n",
       "       ...,\n",
       "       [0., 0., 0., ..., 1., 0., 0.],\n",
       "       [0., 0., 0., ..., 0., 1., 0.],\n",
       "       [0., 0., 0., ..., 0., 0., 1.]])"
      ]
     },
     "execution_count": 31,
     "metadata": {},
     "output_type": "execute_result"
    }
   ],
   "source": [
    "user_sim"
   ]
  },
  {
   "cell_type": "code",
   "execution_count": 32,
   "metadata": {},
   "outputs": [
    {
     "data": {
      "text/html": [
       "<div>\n",
       "<style scoped>\n",
       "    .dataframe tbody tr th:only-of-type {\n",
       "        vertical-align: middle;\n",
       "    }\n",
       "\n",
       "    .dataframe tbody tr th {\n",
       "        vertical-align: top;\n",
       "    }\n",
       "\n",
       "    .dataframe thead th {\n",
       "        text-align: right;\n",
       "    }\n",
       "</style>\n",
       "<table border=\"1\" class=\"dataframe\">\n",
       "  <thead>\n",
       "    <tr style=\"text-align: right;\">\n",
       "      <th></th>\n",
       "      <th>0</th>\n",
       "      <th>1</th>\n",
       "      <th>2</th>\n",
       "      <th>3</th>\n",
       "      <th>4</th>\n",
       "    </tr>\n",
       "  </thead>\n",
       "  <tbody>\n",
       "    <tr>\n",
       "      <th>0</th>\n",
       "      <td>1.0</td>\n",
       "      <td>0.0</td>\n",
       "      <td>0.0</td>\n",
       "      <td>0.0</td>\n",
       "      <td>0.0</td>\n",
       "    </tr>\n",
       "    <tr>\n",
       "      <th>1</th>\n",
       "      <td>0.0</td>\n",
       "      <td>1.0</td>\n",
       "      <td>0.0</td>\n",
       "      <td>0.0</td>\n",
       "      <td>0.0</td>\n",
       "    </tr>\n",
       "    <tr>\n",
       "      <th>2</th>\n",
       "      <td>0.0</td>\n",
       "      <td>0.0</td>\n",
       "      <td>1.0</td>\n",
       "      <td>0.0</td>\n",
       "      <td>0.0</td>\n",
       "    </tr>\n",
       "    <tr>\n",
       "      <th>3</th>\n",
       "      <td>0.0</td>\n",
       "      <td>0.0</td>\n",
       "      <td>0.0</td>\n",
       "      <td>1.0</td>\n",
       "      <td>0.0</td>\n",
       "    </tr>\n",
       "    <tr>\n",
       "      <th>4</th>\n",
       "      <td>0.0</td>\n",
       "      <td>0.0</td>\n",
       "      <td>0.0</td>\n",
       "      <td>0.0</td>\n",
       "      <td>1.0</td>\n",
       "    </tr>\n",
       "  </tbody>\n",
       "</table>\n",
       "</div>"
      ],
      "text/plain": [
       "     0    1    2    3    4\n",
       "0  1.0  0.0  0.0  0.0  0.0\n",
       "1  0.0  1.0  0.0  0.0  0.0\n",
       "2  0.0  0.0  1.0  0.0  0.0\n",
       "3  0.0  0.0  0.0  1.0  0.0\n",
       "4  0.0  0.0  0.0  0.0  1.0"
      ]
     },
     "execution_count": 32,
     "metadata": {},
     "output_type": "execute_result"
    }
   ],
   "source": [
    "user_sim_df = pd.DataFrame(user_sim)\n",
    "user_sim_df.iloc[0:5,0:5]    "
   ]
  },
  {
   "cell_type": "code",
   "execution_count": 33,
   "metadata": {},
   "outputs": [],
   "source": [
    "user_sim_df.index = books1.userid.unique()\n",
    "user_sim_df.columns = books1.userid.unique()"
   ]
  },
  {
   "cell_type": "code",
   "execution_count": 34,
   "metadata": {},
   "outputs": [
    {
     "data": {
      "text/html": [
       "<div>\n",
       "<style scoped>\n",
       "    .dataframe tbody tr th:only-of-type {\n",
       "        vertical-align: middle;\n",
       "    }\n",
       "\n",
       "    .dataframe tbody tr th {\n",
       "        vertical-align: top;\n",
       "    }\n",
       "\n",
       "    .dataframe thead th {\n",
       "        text-align: right;\n",
       "    }\n",
       "</style>\n",
       "<table border=\"1\" class=\"dataframe\">\n",
       "  <thead>\n",
       "    <tr style=\"text-align: right;\">\n",
       "      <th></th>\n",
       "      <th>276726</th>\n",
       "      <th>276729</th>\n",
       "      <th>276736</th>\n",
       "      <th>276737</th>\n",
       "      <th>276744</th>\n",
       "    </tr>\n",
       "  </thead>\n",
       "  <tbody>\n",
       "    <tr>\n",
       "      <th>276726</th>\n",
       "      <td>1.0</td>\n",
       "      <td>0.0</td>\n",
       "      <td>0.0</td>\n",
       "      <td>0.0</td>\n",
       "      <td>0.0</td>\n",
       "    </tr>\n",
       "    <tr>\n",
       "      <th>276729</th>\n",
       "      <td>0.0</td>\n",
       "      <td>1.0</td>\n",
       "      <td>0.0</td>\n",
       "      <td>0.0</td>\n",
       "      <td>0.0</td>\n",
       "    </tr>\n",
       "    <tr>\n",
       "      <th>276736</th>\n",
       "      <td>0.0</td>\n",
       "      <td>0.0</td>\n",
       "      <td>1.0</td>\n",
       "      <td>0.0</td>\n",
       "      <td>0.0</td>\n",
       "    </tr>\n",
       "    <tr>\n",
       "      <th>276737</th>\n",
       "      <td>0.0</td>\n",
       "      <td>0.0</td>\n",
       "      <td>0.0</td>\n",
       "      <td>1.0</td>\n",
       "      <td>0.0</td>\n",
       "    </tr>\n",
       "    <tr>\n",
       "      <th>276744</th>\n",
       "      <td>0.0</td>\n",
       "      <td>0.0</td>\n",
       "      <td>0.0</td>\n",
       "      <td>0.0</td>\n",
       "      <td>1.0</td>\n",
       "    </tr>\n",
       "  </tbody>\n",
       "</table>\n",
       "</div>"
      ],
      "text/plain": [
       "        276726  276729  276736  276737  276744\n",
       "276726     1.0     0.0     0.0     0.0     0.0\n",
       "276729     0.0     1.0     0.0     0.0     0.0\n",
       "276736     0.0     0.0     1.0     0.0     0.0\n",
       "276737     0.0     0.0     0.0     1.0     0.0\n",
       "276744     0.0     0.0     0.0     0.0     1.0"
      ]
     },
     "execution_count": 34,
     "metadata": {},
     "output_type": "execute_result"
    }
   ],
   "source": [
    "user_sim_df.iloc[0:5,0:5]"
   ]
  },
  {
   "cell_type": "code",
   "execution_count": 35,
   "metadata": {},
   "outputs": [],
   "source": [
    "np.fill_diagonal(user_sim,0)"
   ]
  },
  {
   "cell_type": "code",
   "execution_count": 36,
   "metadata": {},
   "outputs": [
    {
     "data": {
      "text/plain": [
       "276726    276726\n",
       "276729    276726\n",
       "276736    276726\n",
       "276737    276726\n",
       "276744    276726\n",
       "           ...  \n",
       "162107    276726\n",
       "162109    276726\n",
       "162113    161453\n",
       "162121    276726\n",
       "162129    276726\n",
       "Length: 2182, dtype: int64"
      ]
     },
     "execution_count": 36,
     "metadata": {},
     "output_type": "execute_result"
    }
   ],
   "source": [
    "user_sim_df.idxmax(axis = 1)"
   ]
  },
  {
   "cell_type": "code",
   "execution_count": 37,
   "metadata": {},
   "outputs": [
    {
     "data": {
      "text/html": [
       "<div>\n",
       "<style scoped>\n",
       "    .dataframe tbody tr th:only-of-type {\n",
       "        vertical-align: middle;\n",
       "    }\n",
       "\n",
       "    .dataframe tbody tr th {\n",
       "        vertical-align: top;\n",
       "    }\n",
       "\n",
       "    .dataframe thead th {\n",
       "        text-align: right;\n",
       "    }\n",
       "</style>\n",
       "<table border=\"1\" class=\"dataframe\">\n",
       "  <thead>\n",
       "    <tr style=\"text-align: right;\">\n",
       "      <th></th>\n",
       "      <th>userid</th>\n",
       "      <th>booktitle</th>\n",
       "      <th>bookrating</th>\n",
       "      <th>word_count</th>\n",
       "    </tr>\n",
       "  </thead>\n",
       "  <tbody>\n",
       "    <tr>\n",
       "      <th>0</th>\n",
       "      <td>276726</td>\n",
       "      <td>Classical Mythology</td>\n",
       "      <td>5</td>\n",
       "      <td>2</td>\n",
       "    </tr>\n",
       "    <tr>\n",
       "      <th>9987</th>\n",
       "      <td>162107</td>\n",
       "      <td>What's Bred in the Bone</td>\n",
       "      <td>7</td>\n",
       "      <td>5</td>\n",
       "    </tr>\n",
       "  </tbody>\n",
       "</table>\n",
       "</div>"
      ],
      "text/plain": [
       "      userid                booktitle  bookrating  word_count\n",
       "0     276726      Classical Mythology           5           2\n",
       "9987  162107  What's Bred in the Bone           7           5"
      ]
     },
     "execution_count": 37,
     "metadata": {},
     "output_type": "execute_result"
    }
   ],
   "source": [
    "books1[(books1['userid'] == 162107) | (books1['userid'] == 276726)]"
   ]
  },
  {
   "cell_type": "code",
   "execution_count": 38,
   "metadata": {},
   "outputs": [
    {
     "data": {
      "text/html": [
       "<div>\n",
       "<style scoped>\n",
       "    .dataframe tbody tr th:only-of-type {\n",
       "        vertical-align: middle;\n",
       "    }\n",
       "\n",
       "    .dataframe tbody tr th {\n",
       "        vertical-align: top;\n",
       "    }\n",
       "\n",
       "    .dataframe thead th {\n",
       "        text-align: right;\n",
       "    }\n",
       "</style>\n",
       "<table border=\"1\" class=\"dataframe\">\n",
       "  <thead>\n",
       "    <tr style=\"text-align: right;\">\n",
       "      <th></th>\n",
       "      <th>userid</th>\n",
       "      <th>booktitle</th>\n",
       "      <th>bookrating</th>\n",
       "      <th>word_count</th>\n",
       "    </tr>\n",
       "  </thead>\n",
       "  <tbody>\n",
       "    <tr>\n",
       "      <th>0</th>\n",
       "      <td>276726</td>\n",
       "      <td>Classical Mythology</td>\n",
       "      <td>5</td>\n",
       "      <td>2</td>\n",
       "    </tr>\n",
       "    <tr>\n",
       "      <th>1</th>\n",
       "      <td>276729</td>\n",
       "      <td>Clara Callan</td>\n",
       "      <td>3</td>\n",
       "      <td>2</td>\n",
       "    </tr>\n",
       "    <tr>\n",
       "      <th>2</th>\n",
       "      <td>276729</td>\n",
       "      <td>Decision in Normandy</td>\n",
       "      <td>6</td>\n",
       "      <td>3</td>\n",
       "    </tr>\n",
       "  </tbody>\n",
       "</table>\n",
       "</div>"
      ],
      "text/plain": [
       "   userid             booktitle  bookrating  word_count\n",
       "0  276726   Classical Mythology           5           2\n",
       "1  276729          Clara Callan           3           2\n",
       "2  276729  Decision in Normandy           6           3"
      ]
     },
     "execution_count": 38,
     "metadata": {},
     "output_type": "execute_result"
    }
   ],
   "source": [
    "books1[(books1['userid']==276729) | (books1['userid']==276726)]"
   ]
  },
  {
   "cell_type": "code",
   "execution_count": 39,
   "metadata": {},
   "outputs": [],
   "source": [
    "user_1 = books1[books1['userid'] == 276729]"
   ]
  },
  {
   "cell_type": "code",
   "execution_count": 40,
   "metadata": {},
   "outputs": [],
   "source": [
    "user_2 = books1[books1['userid'] == 276726]"
   ]
  },
  {
   "cell_type": "code",
   "execution_count": 41,
   "metadata": {},
   "outputs": [
    {
     "data": {
      "text/html": [
       "<div>\n",
       "<style scoped>\n",
       "    .dataframe tbody tr th:only-of-type {\n",
       "        vertical-align: middle;\n",
       "    }\n",
       "\n",
       "    .dataframe tbody tr th {\n",
       "        vertical-align: top;\n",
       "    }\n",
       "\n",
       "    .dataframe thead th {\n",
       "        text-align: right;\n",
       "    }\n",
       "</style>\n",
       "<table border=\"1\" class=\"dataframe\">\n",
       "  <thead>\n",
       "    <tr style=\"text-align: right;\">\n",
       "      <th></th>\n",
       "      <th>userid_x</th>\n",
       "      <th>booktitle</th>\n",
       "      <th>bookrating_x</th>\n",
       "      <th>word_count_x</th>\n",
       "      <th>userid_y</th>\n",
       "      <th>bookrating_y</th>\n",
       "      <th>word_count_y</th>\n",
       "    </tr>\n",
       "  </thead>\n",
       "  <tbody>\n",
       "    <tr>\n",
       "      <th>0</th>\n",
       "      <td>276729.0</td>\n",
       "      <td>Clara Callan</td>\n",
       "      <td>3.0</td>\n",
       "      <td>2.0</td>\n",
       "      <td>NaN</td>\n",
       "      <td>NaN</td>\n",
       "      <td>NaN</td>\n",
       "    </tr>\n",
       "    <tr>\n",
       "      <th>1</th>\n",
       "      <td>276729.0</td>\n",
       "      <td>Decision in Normandy</td>\n",
       "      <td>6.0</td>\n",
       "      <td>3.0</td>\n",
       "      <td>NaN</td>\n",
       "      <td>NaN</td>\n",
       "      <td>NaN</td>\n",
       "    </tr>\n",
       "    <tr>\n",
       "      <th>2</th>\n",
       "      <td>NaN</td>\n",
       "      <td>Classical Mythology</td>\n",
       "      <td>NaN</td>\n",
       "      <td>NaN</td>\n",
       "      <td>276726.0</td>\n",
       "      <td>5.0</td>\n",
       "      <td>2.0</td>\n",
       "    </tr>\n",
       "  </tbody>\n",
       "</table>\n",
       "</div>"
      ],
      "text/plain": [
       "   userid_x             booktitle  bookrating_x  word_count_x  userid_y  \\\n",
       "0  276729.0          Clara Callan           3.0           2.0       NaN   \n",
       "1  276729.0  Decision in Normandy           6.0           3.0       NaN   \n",
       "2       NaN   Classical Mythology           NaN           NaN  276726.0   \n",
       "\n",
       "   bookrating_y  word_count_y  \n",
       "0           NaN           NaN  \n",
       "1           NaN           NaN  \n",
       "2           5.0           2.0  "
      ]
     },
     "execution_count": 41,
     "metadata": {},
     "output_type": "execute_result"
    }
   ],
   "source": [
    "pd.merge(user_1,user_2, on = 'booktitle', how = 'outer')"
   ]
  },
  {
   "cell_type": "code",
   "execution_count": 47,
   "metadata": {},
   "outputs": [
    {
     "ename": "SyntaxError",
     "evalue": "invalid syntax (<ipython-input-47-fb10aecf3f83>, line 4)",
     "output_type": "error",
     "traceback": [
      "\u001b[1;36m  File \u001b[1;32m\"<ipython-input-47-fb10aecf3f83>\"\u001b[1;36m, line \u001b[1;32m4\u001b[0m\n\u001b[1;33m    data = books_df.loc[books_df['bookrating'] == book]rating\u001b[0m\n\u001b[1;37m                                                       ^\u001b[0m\n\u001b[1;31mSyntaxError\u001b[0m\u001b[1;31m:\u001b[0m invalid syntax\n"
     ]
    }
   ],
   "source": [
    "# Function for recommending books based on Book title. It takes book title and genre as an input.def recommend(title, genre):\n",
    "    \n",
    "    # Matching the genre with the dataset and reset the index\n",
    "data = books_df.loc[books_df['bookrating'] == bookrating]  \n",
    "data.reset_index(level = 0, inplace = True) \n",
    "  \n",
    "    # Convert the index into series\n",
    "indices = pd.Series(data.index, index = data['booktitle'])\n",
    "    \n",
    "    #Converting the book title into vectors and used bigram\n",
    "tf = TfidfVectorizer(analyzer='word', ngram_range=(2, 2), min_df = 1, stop_words='english')\n",
    "tfidf_matrix = tf.fit_transform(data['title'])\n",
    "    \n",
    "    # Calculating the similarity measures based on Cosine Similarity\n",
    "sg = cosine_similarity(tfidf_matrix, tfidf_matrix)\n",
    "    \n",
    "    # Get the index corresponding to original_title\n",
    "       \n",
    "idx = indices[booktitle]# Get the pairwsie similarity scores \n",
    "sig = list(enumerate(sg[idx]))# Sort the books\n",
    "sig = sorted(sig, key=lambda x: x[1], reverse=True)# Scores of the 5 most similar books \n",
    "sig = sig[1:6]# Book indicies\n",
    "movie_indices = [i[0] for i in sig]\n",
    "   \n",
    "    # Top 5 book recommendation\n",
    "rec = data[['title', 'url']].iloc[movie_indices]\n",
    "       \n",
    "    # It reads the top 5 recommended book urls and print the images\n",
    "    \n",
    "for i in rec['url']:\n",
    "    response = requests.get(i)\n",
    "    img = Image.open(BytesIO(response.content))\n",
    "    plt.figure()\n",
    "    print(plt.imshow(img))"
   ]
  },
  {
   "cell_type": "code",
   "execution_count": 42,
   "metadata": {},
   "outputs": [],
   "source": [
    "#recommend('The Adventures of Sherlock Holmes')"
   ]
  }
 ],
 "metadata": {
  "interpreter": {
   "hash": "b3ba2566441a7c06988d0923437866b63cedc61552a5af99d1f4fb67d367b25f"
  },
  "kernelspec": {
   "display_name": "Python 3.8.8 64-bit ('base': conda)",
   "language": "python",
   "name": "python3"
  },
  "language_info": {
   "codemirror_mode": {
    "name": "ipython",
    "version": 3
   },
   "file_extension": ".py",
   "mimetype": "text/x-python",
   "name": "python",
   "nbconvert_exporter": "python",
   "pygments_lexer": "ipython3",
   "version": "3.8.8"
  },
  "orig_nbformat": 4
 },
 "nbformat": 4,
 "nbformat_minor": 2
}
